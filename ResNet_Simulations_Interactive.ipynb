{
 "cells": [
  {
   "cell_type": "markdown",
   "id": "a485700f",
   "metadata": {},
   "source": [
    "# ResNet and Big Data Computer Vision Simulations\n",
    "\n",
    "**Course**: BCS-05-0839/2022  \n",
    "**Presenter**: James Gitari  \n",
    "**Support Groups**: 7, 8, 9\n",
    "\n",
    "This interactive notebook allows you to run and explore the ResNet simulations step by step.\n",
    "\n",
    "## Learning Objectives\n",
    "- Understand skip connections and identity shortcuts in ResNet\n",
    "- Compare standard vs residual blocks\n",
    "- Explore transfer learning with pre-trained models\n",
    "- Analyze the impact of big data on computer vision tasks"
   ]
  },
  {
   "cell_type": "code",
   "execution_count": 3,
   "id": "d00c30fa",
   "metadata": {},
   "outputs": [
    {
     "ename": "ModuleNotFoundError",
     "evalue": "No module named 'tensorflow'",
     "output_type": "error",
     "traceback": [
      "\u001b[31m---------------------------------------------------------------------------\u001b[39m",
      "\u001b[31mModuleNotFoundError\u001b[39m                       Traceback (most recent call last)",
      "\u001b[36mCell\u001b[39m\u001b[36m \u001b[39m\u001b[32mIn[3]\u001b[39m\u001b[32m, line 2\u001b[39m\n\u001b[32m      1\u001b[39m \u001b[38;5;66;03m# Import required libraries\u001b[39;00m\n\u001b[32m----> \u001b[39m\u001b[32m2\u001b[39m \u001b[38;5;28;01mimport\u001b[39;00m\u001b[38;5;250m \u001b[39m\u001b[34;01mtensorflow\u001b[39;00m\u001b[38;5;250m \u001b[39m\u001b[38;5;28;01mas\u001b[39;00m\u001b[38;5;250m \u001b[39m\u001b[34;01mtf\u001b[39;00m\n\u001b[32m      3\u001b[39m \u001b[38;5;28;01mfrom\u001b[39;00m\u001b[38;5;250m \u001b[39m\u001b[34;01mtensorflow\u001b[39;00m\u001b[38;5;250m \u001b[39m\u001b[38;5;28;01mimport\u001b[39;00m keras\n\u001b[32m      4\u001b[39m \u001b[38;5;28;01mimport\u001b[39;00m\u001b[38;5;250m \u001b[39m\u001b[34;01mnumpy\u001b[39;00m\u001b[38;5;250m \u001b[39m\u001b[38;5;28;01mas\u001b[39;00m\u001b[38;5;250m \u001b[39m\u001b[34;01mnp\u001b[39;00m\n",
      "\u001b[31mModuleNotFoundError\u001b[39m: No module named 'tensorflow'"
     ]
    }
   ],
   "source": [
    "# Import required libraries\n",
    "import tensorflow as tf\n",
    "from tensorflow import keras\n",
    "import numpy as np\n",
    "import matplotlib.pyplot as plt\n",
    "import seaborn as sns\n",
    "from datetime import datetime\n",
    "import os\n",
    "import warnings\n",
    "\n",
    "# Suppress warnings for cleaner output\n",
    "warnings.filterwarnings('ignore')\n",
    "os.environ['TF_CPP_MIN_LOG_LEVEL'] = '2'\n",
    "\n",
    "# Set random seeds for reproducibility\n",
    "tf.random.set_seed(42)\n",
    "np.random.seed(42)\n",
    "\n",
    "print(f\"TensorFlow version: {tf.__version__}\")\n",
    "print(f\"GPU Available: {len(tf.config.list_physical_devices('GPU')) > 0}\")\n",
    "print(f\"Execution started: {datetime.now().strftime('%Y-%m-%d %H:%M:%S')}\")"
   ]
  },
  {
   "cell_type": "markdown",
   "id": "364d68bf",
   "metadata": {},
   "source": [
    "## Part 1: Understanding Residual Blocks\n",
    "\n",
    "Let's start by implementing and comparing standard convolutional blocks with residual blocks."
   ]
  },
  {
   "cell_type": "code",
   "execution_count": 1,
   "id": "7ac3abb1",
   "metadata": {},
   "outputs": [
    {
     "ename": "ModuleNotFoundError",
     "evalue": "No module named 'tensorflow'",
     "output_type": "error",
     "traceback": [
      "\u001b[31m---------------------------------------------------------------------------\u001b[39m",
      "\u001b[31mModuleNotFoundError\u001b[39m                       Traceback (most recent call last)",
      "\u001b[36mCell\u001b[39m\u001b[36m \u001b[39m\u001b[32mIn[1]\u001b[39m\u001b[32m, line 6\u001b[39m\n\u001b[32m      3\u001b[39m sys.path.append(\u001b[33m'\u001b[39m\u001b[33msimulations\u001b[39m\u001b[33m'\u001b[39m)\n\u001b[32m      4\u001b[39m sys.path.append(\u001b[33m'\u001b[39m\u001b[33mutils\u001b[39m\u001b[33m'\u001b[39m)\n\u001b[32m----> \u001b[39m\u001b[32m6\u001b[39m \u001b[38;5;28;01mfrom\u001b[39;00m\u001b[38;5;250m \u001b[39m\u001b[34;01msimulation4_residual_blocks\u001b[39;00m\u001b[38;5;250m \u001b[39m\u001b[38;5;28;01mimport\u001b[39;00m ResidualBlockExperiment\n\u001b[32m      7\u001b[39m \u001b[38;5;28;01mfrom\u001b[39;00m\u001b[38;5;250m \u001b[39m\u001b[34;01mvisualization_tools\u001b[39;00m\u001b[38;5;250m \u001b[39m\u001b[38;5;28;01mimport\u001b[39;00m VisualizationTools\n\u001b[32m      9\u001b[39m \u001b[38;5;66;03m# Initialize the experiment\u001b[39;00m\n",
      "\u001b[36mFile \u001b[39m\u001b[32mc:\\xampp\\htdocs\\ResNet_BigData_ComputerVision\\simulations\\simulation4_residual_blocks.py:11\u001b[39m\n\u001b[32m      1\u001b[39m \u001b[33;03m\"\"\"\u001b[39;00m\n\u001b[32m      2\u001b[39m \u001b[33;03mSimulation 4: Implementing a \"Toy\" Residual Block\u001b[39;00m\n\u001b[32m      3\u001b[39m \u001b[33;03mObjective: To understand the \"skip connection\" or \"identity shortcut\" that is the core innovation of ResNet.\u001b[39;00m\n\u001b[32m   (...)\u001b[39m\u001b[32m      8\u001b[39m \u001b[33;03m3. The concept of identity mapping in deep networks\u001b[39;00m\n\u001b[32m      9\u001b[39m \u001b[33;03m\"\"\"\u001b[39;00m\n\u001b[32m---> \u001b[39m\u001b[32m11\u001b[39m \u001b[38;5;28;01mimport\u001b[39;00m\u001b[38;5;250m \u001b[39m\u001b[34;01mtensorflow\u001b[39;00m\u001b[38;5;250m \u001b[39m\u001b[38;5;28;01mas\u001b[39;00m\u001b[38;5;250m \u001b[39m\u001b[34;01mtf\u001b[39;00m\n\u001b[32m     12\u001b[39m \u001b[38;5;28;01mfrom\u001b[39;00m\u001b[38;5;250m \u001b[39m\u001b[34;01mtensorflow\u001b[39;00m\u001b[38;5;250m \u001b[39m\u001b[38;5;28;01mimport\u001b[39;00m keras\n\u001b[32m     13\u001b[39m \u001b[38;5;28;01mfrom\u001b[39;00m\u001b[38;5;250m \u001b[39m\u001b[34;01mtensorflow\u001b[39;00m\u001b[34;01m.\u001b[39;00m\u001b[34;01mkeras\u001b[39;00m\u001b[38;5;250m \u001b[39m\u001b[38;5;28;01mimport\u001b[39;00m layers\n",
      "\u001b[31mModuleNotFoundError\u001b[39m: No module named 'tensorflow'"
     ]
    }
   ],
   "source": [
    "# Import our simulation code\n",
    "import sys\n",
    "sys.path.append('simulations')\n",
    "sys.path.append('utils')\n",
    "\n",
    "from simulation4_residual_blocks import ResidualBlockExperiment\n",
    "from visualization_tools import VisualizationTools\n",
    "\n",
    "# Initialize the experiment\n",
    "residual_experiment = ResidualBlockExperiment(\n",
    "    input_shape=(32, 32, 3), \n",
    "    num_blocks=6  # Reduced for faster execution in notebook\n",
    ")\n",
    "\n",
    "print(\"✅ Residual block experiment initialized\")"
   ]
  },
  {
   "cell_type": "code",
   "execution_count": null,
   "id": "9160eb1b",
   "metadata": {},
   "outputs": [],
   "source": [
    "# Create and compare the two types of networks\n",
    "print(\"Building standard network...\")\n",
    "standard_model = residual_experiment.build_standard_network()\n",
    "\n",
    "print(\"\\nBuilding residual network...\")\n",
    "residual_model = residual_experiment.build_residual_network()\n",
    "\n",
    "# Compare model summaries\n",
    "print(f\"\\nStandard Network Parameters: {standard_model.count_params():,}\")\n",
    "print(f\"Residual Network Parameters: {residual_model.count_params():,}\")"
   ]
  },
  {
   "cell_type": "code",
   "execution_count": null,
   "id": "5b0ff9d0",
   "metadata": {},
   "outputs": [],
   "source": [
    "# Train both models and compare (reduced epochs for notebook)\n",
    "print(\"Training both models for comparison...\")\n",
    "results = residual_experiment.train_and_compare_models(\n",
    "    epochs=10,  # Reduced for notebook\n",
    "    batch_size=32\n",
    ")\n",
    "\n",
    "print(\"\\n✅ Training completed!\")"
   ]
  },
  {
   "cell_type": "code",
   "execution_count": null,
   "id": "641b33a0",
   "metadata": {},
   "outputs": [],
   "source": [
    "# Visualize the training comparison\n",
    "residual_experiment.plot_training_comparison(save_path=\"results\")"
   ]
  },
  {
   "cell_type": "code",
   "execution_count": null,
   "id": "dadba17d",
   "metadata": {},
   "outputs": [],
   "source": [
    "# Analyze gradient flow\n",
    "residual_experiment.analyze_gradient_flow(save_path=\"results\")"
   ]
  },
  {
   "cell_type": "markdown",
   "id": "b4851e88",
   "metadata": {},
   "source": [
    "### Analysis Questions for Simulation 4\n",
    "\n",
    "**Answer these questions based on the results above:**\n",
    "\n",
    "1. **Training Curves**: How do the training and validation curves differ between standard and residual networks?\n",
    "\n",
    "2. **Gradient Flow**: What do the gradient magnitude plots tell us about how gradients flow through the networks?\n",
    "\n",
    "3. **Final Performance**: Which network achieved better final accuracy and why?\n",
    "\n",
    "4. **Convergence**: Which network converged more smoothly and quickly?\n",
    "\n",
    "*Write your analysis in the markdown cell below:*"
   ]
  },
  {
   "cell_type": "markdown",
   "id": "b800732a",
   "metadata": {},
   "source": [
    "### Your Analysis Here:\n",
    "\n",
    "**Training Curves Analysis:**\n",
    "- [Write your observations about the training curves]\n",
    "\n",
    "**Gradient Flow Analysis:**\n",
    "- [Explain what the gradient magnitude plots show]\n",
    "\n",
    "**Performance Comparison:**\n",
    "- [Compare the final accuracy and explain the reasons]\n",
    "\n",
    "**Key Insights:**\n",
    "- [Summarize the main insights about residual connections]"
   ]
  },
  {
   "cell_type": "markdown",
   "id": "58f0db32",
   "metadata": {},
   "source": [
    "## Part 2: Transfer Learning with Pre-trained ResNet\n",
    "\n",
    "Now let's explore how big data (ImageNet) can help with small dataset problems through transfer learning."
   ]
  },
  {
   "cell_type": "code",
   "execution_count": null,
   "id": "a56d0660",
   "metadata": {},
   "outputs": [],
   "source": [
    "# Import transfer learning experiment\n",
    "from simulation5_transfer_learning import TransferLearningExperiment\n",
    "\n",
    "# Initialize the transfer learning experiment\n",
    "transfer_experiment = TransferLearningExperiment(\n",
    "    img_size=(224, 224),  # ResNet50 input size\n",
    "    num_classes=2  # Cats vs Dogs\n",
    ")\n",
    "\n",
    "print(\"✅ Transfer learning experiment initialized\")"
   ]
  },
  {
   "cell_type": "code",
   "execution_count": null,
   "id": "a0de733a",
   "metadata": {},
   "outputs": [],
   "source": [
    "# Run the complete transfer learning experiment\n",
    "print(\"Running transfer learning experiment...\")\n",
    "print(\"This will compare three approaches:\")\n",
    "print(\"1. Baseline CNN (trained from scratch)\")\n",
    "print(\"2. Feature Extractor (frozen ResNet50)\")\n",
    "print(\"3. Fine-tuning (unfrozen ResNet50)\")\n",
    "\n",
    "transfer_results = transfer_experiment.train_all_models(\n",
    "    epochs_stage1=6,  # Reduced for notebook\n",
    "    epochs_stage2=3,   # Reduced for notebook\n",
    "    batch_size=16      # Smaller batch size for memory\n",
    ")\n",
    "\n",
    "print(\"\\n✅ Transfer learning experiment completed!\")"
   ]
  },
  {
   "cell_type": "code",
   "execution_count": null,
   "id": "a3d7d848",
   "metadata": {},
   "outputs": [],
   "source": [
    "# Generate comprehensive comparison plots\n",
    "transfer_experiment.plot_comparison_results(save_path=\"results\")"
   ]
  },
  {
   "cell_type": "markdown",
   "id": "0419980a",
   "metadata": {},
   "source": [
    "### Analysis Questions for Simulation 5\n",
    "\n",
    "**Answer these questions based on the transfer learning results:**\n",
    "\n",
    "1. **Performance Comparison**: How did the three approaches (baseline, feature extractor, fine-tuning) compare in terms of final accuracy?\n",
    "\n",
    "2. **Parameter Efficiency**: How many parameters did each approach require to train?\n",
    "\n",
    "3. **Training Efficiency**: Which approach converged fastest and why?\n",
    "\n",
    "4. **Big Data Impact**: How did the ImageNet pre-training help with the cats vs dogs problem?\n",
    "\n",
    "5. **When to Use Each**: Based on these results, when would you use feature extraction vs fine-tuning?\n",
    "\n",
    "*Write your analysis in the markdown cell below:*"
   ]
  },
  {
   "cell_type": "markdown",
   "id": "999e8387",
   "metadata": {},
   "source": [
    "### Your Analysis Here:\n",
    "\n",
    "**Performance Comparison:**\n",
    "- [Compare the final test accuracies of all three approaches]\n",
    "\n",
    "**Parameter Efficiency:**\n",
    "- [Discuss the number of trainable parameters in each approach]\n",
    "\n",
    "**Training Efficiency:**\n",
    "- [Analyze convergence speed and training time]\n",
    "\n",
    "**Big Data Impact:**\n",
    "- [Explain how ImageNet pre-training benefited the small dataset]\n",
    "\n",
    "**Strategic Insights:**\n",
    "- [Provide guidelines on when to use each transfer learning strategy]"
   ]
  },
  {
   "cell_type": "markdown",
   "id": "926b8fab",
   "metadata": {},
   "source": [
    "## Part 3: Visualization and Feature Analysis\n",
    "\n",
    "Let's explore what the networks learned by visualizing their features."
   ]
  },
  {
   "cell_type": "code",
   "execution_count": null,
   "id": "eab0f357",
   "metadata": {},
   "outputs": [],
   "source": [
    "# Initialize visualization tools\n",
    "viz_tools = VisualizationTools(save_dir=\"results\")\n",
    "\n",
    "# Create some sample data for visualization\n",
    "sample_image = np.random.rand(224, 224, 3)\n",
    "\n",
    "print(\"🎨 Visualization tools ready\")\n",
    "print(\"Available models for analysis:\")\n",
    "print(\"- Baseline CNN\")\n",
    "print(\"- Feature Extractor (ResNet50)\")\n",
    "print(\"- Fine-tuned ResNet50\")"
   ]
  },
  {
   "cell_type": "code",
   "execution_count": null,
   "id": "88650b42",
   "metadata": {},
   "outputs": [],
   "source": [
    "# Let's examine the ResNet50 architecture\n",
    "base_resnet = keras.applications.ResNet50(\n",
    "    weights='imagenet',\n",
    "    include_top=False,\n",
    "    input_shape=(224, 224, 3)\n",
    ")\n",
    "\n",
    "print(\"ResNet50 Architecture Summary:\")\n",
    "print(f\"Total layers: {len(base_resnet.layers)}\")\n",
    "print(f\"Total parameters: {base_resnet.count_params():,}\")\n",
    "print(f\"Input shape: {base_resnet.input_shape}\")\n",
    "print(f\"Output shape: {base_resnet.output_shape}\")\n",
    "\n",
    "# Show some layer information\n",
    "print(\"\\nSample layers:\")\n",
    "for i, layer in enumerate(base_resnet.layers[:10]):  # First 10 layers\n",
    "    print(f\"  {i}: {layer.name} ({type(layer).__name__})\")"
   ]
  },
  {
   "cell_type": "markdown",
   "id": "581f591a",
   "metadata": {},
   "source": [
    "## Part 4: Extension Activities\n",
    "\n",
    "Try these additional experiments to deepen your understanding:"
   ]
  },
  {
   "cell_type": "code",
   "execution_count": null,
   "id": "096da034",
   "metadata": {},
   "outputs": [],
   "source": [
    "# Extension 1: Experiment with different network depths\n",
    "print(\"Extension 1: Comparing different network depths\")\n",
    "print(\"Try modifying num_blocks in ResidualBlockExperiment to see how depth affects training\")\n",
    "\n",
    "# Extension 2: Try different pre-trained models\n",
    "print(\"\\nExtension 2: Other pre-trained models available:\")\n",
    "print(\"- VGG16: keras.applications.VGG16\")\n",
    "print(\"- InceptionV3: keras.applications.InceptionV3\")\n",
    "print(\"- DenseNet: keras.applications.DenseNet121\")\n",
    "\n",
    "# Extension 3: Real dataset suggestions\n",
    "print(\"\\nExtension 3: Try with real datasets:\")\n",
    "print(\"- CIFAR-10: keras.datasets.cifar10\")\n",
    "print(\"- Fashion-MNIST: keras.datasets.fashion_mnist\")\n",
    "print(\"- Custom datasets from your own images\")"
   ]
  },
  {
   "cell_type": "markdown",
   "id": "1fa5dabd",
   "metadata": {},
   "source": [
    "## Summary and Key Takeaways\n",
    "\n",
    "### Simulation 4: Residual Blocks\n",
    "**Key Concepts Demonstrated:**\n",
    "- Skip connections provide direct gradient paths\n",
    "- Residual blocks mitigate vanishing gradient problems\n",
    "- Identity mapping allows deeper networks to train effectively\n",
    "- Residual networks show smoother training curves\n",
    "\n",
    "### Simulation 5: Transfer Learning\n",
    "**Key Concepts Demonstrated:**\n",
    "- Big data (ImageNet) provides powerful general features\n",
    "- Transfer learning outperforms training from scratch\n",
    "- Feature extraction is parameter-efficient\n",
    "- Fine-tuning can further improve task-specific performance\n",
    "\n",
    "### Assignment Deliverables Checklist\n",
    "- [ ] **Objective**: Clear statement of goals for each simulation\n",
    "- [ ] **Code**: Well-commented implementation (provided here)\n",
    "- [ ] **Results**: Generated plots and quantitative metrics\n",
    "- [ ] **Analysis**: Detailed discussion of findings and implications\n",
    "\n",
    "### Report Writing Tips\n",
    "1. **Explain the 'Why'**: Don't just describe what happened, explain why it happened\n",
    "2. **Use Evidence**: Reference specific results from your plots and metrics\n",
    "3. **Connect Theory**: Link your observations to the underlying theory\n",
    "4. **Real-World Relevance**: Discuss implications for practical applications\n",
    "\n",
    "### Questions for Further Investigation\n",
    "1. How would results change with different dataset sizes?\n",
    "2. What happens with very deep networks (100+ layers)?\n",
    "3. How do different pre-trained models compare?\n",
    "4. What's the minimum amount of data needed for effective transfer learning?\n",
    "\n",
    "**Good luck with your analysis and reports!** 🎓"
   ]
  }
 ],
 "metadata": {
  "kernelspec": {
   "display_name": "Python 3",
   "language": "python",
   "name": "python3"
  },
  "language_info": {
   "codemirror_mode": {
    "name": "ipython",
    "version": 3
   },
   "file_extension": ".py",
   "mimetype": "text/x-python",
   "name": "python",
   "nbconvert_exporter": "python",
   "pygments_lexer": "ipython3",
   "version": "3.13.7"
  }
 },
 "nbformat": 4,
 "nbformat_minor": 5
}
